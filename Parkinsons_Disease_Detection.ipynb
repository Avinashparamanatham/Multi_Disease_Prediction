{
 "cells": [
  {
   "cell_type": "code",
   "execution_count": null,
   "id": "import_dependencies",
   "metadata": {},
   "outputs": [],
   "source": [
    "import numpy as np\n",
    "import pandas as pd\n",
    "from sklearn import svm\n",
    "from sklearn.metrics import accuracy_score\n",
    "from sklearn.preprocessing import StandardScaler\n",
    "from sklearn.model_selection import train_test_split, GridSearchCV\n",
    "from sklearn.ensemble import RandomForestClassifier\n",
    "from xgboost import XGBClassifier\n",
    "import pickle\n"
   ]
  },
  {
   "cell_type": "code",
   "execution_count": null,
   "id": "data_loading_processing",
   "metadata": {},
   "outputs": [],
   "source": [
    "# Load the dataset\n",
    "parkinsons_data = pd.read_csv('Medical diagnosis using AI/Datasets/parkinson_data.csv')\n",
    "\n",
    "# Split features and target\n",
    "X = parkinsons_data.drop(columns=['name','status'], axis=1)\n",
    "Y = parkinsons_data['status']\n",
    "\n",
    "# Split into train and test\n",
    "X_train, X_test, Y_train, Y_test = train_test_split(X, Y, test_size=0.2, random_state=2)\n"
   ]
  },
  {
   "cell_type": "code",
   "execution_count": null,
   "id": "model_training_evaluation",
   "metadata": {},
   "outputs": [],
   "source": [
    "# Feature Scaling\n",
    "scaler = StandardScaler()\n",
    "X_train_scaled = scaler.fit_transform(X_train)\n",
    "X_test_scaled = scaler.transform(X_test)\n",
    "\n",
    "# Random Forest with hyperparameter tuning\n",
    "rf = RandomForestClassifier(random_state=42)\n",
    "param_grid_rf = {\n",
    "    'n_estimators': [50, 100, 200],\n",
    "    'max_depth': [None, 10, 20],\n",
    "    'min_samples_split': [2, 5],\n",
    "    'min_samples_leaf': [1, 2]\n",
    "}\n",
    "grid_rf = GridSearchCV(rf, param_grid_rf, cv=5, scoring='accuracy')\n",
    "grid_rf.fit(X_train_scaled, Y_train)\n",
    "best_rf = grid_rf.best_estimator_\n",
    "\n",
    "# XGBoost with hyperparameter tuning\n",
    "xgb = XGBClassifier(use_label_encoder=False, eval_metric='logloss', random_state=42)\n",
    "param_grid_xgb = {\n",
    "    'n_estimators': [50, 100, 200],\n",
    "    'max_depth': [3, 6, 10],\n",
    "    'learning_rate': [0.01, 0.1, 0.2]\n",
    "}\n",
    "grid_xgb = GridSearchCV(xgb, param_grid_xgb, cv=5, scoring='accuracy')\n",
    "grid_xgb.fit(X_train_scaled, Y_train)\n",
    "best_xgb = grid_xgb.best_estimator_\n",
    "\n",
    "# Evaluate Random Forest\n",
    "train_pred_rf = best_rf.predict(X_train_scaled)\n",
    "test_pred_rf = best_rf.predict(X_test_scaled)\n",
    "train_acc_rf = accuracy_score(Y_train, train_pred_rf)\n",
    "test_acc_rf = accuracy_score(Y_test, test_pred_rf)\n",
    "print('Random Forest - Training Accuracy:', train_acc_rf)\n",
    "print('Random Forest - Test Accuracy:', test_acc_rf)\n",
    "\n",
    "# Evaluate XGBoost\n",
    "train_pred_xgb = best_xgb.predict(X_train_scaled)\n",
    "test_pred_xgb = best_xgb.predict(X_test_scaled)\n",
    "train_acc_xgb = accuracy_score(Y_train, train_pred_xgb)\n",
    "test_acc_xgb = accuracy_score(Y_test, test_pred_xgb)\n",
    "print('XGBoost - Training Accuracy:', train_acc_xgb)\n",
    "print('XGBoost - Test Accuracy:', test_acc_xgb)\n",
    "\n",
    "# Select best model\n",
    "if test_acc_rf >= test_acc_xgb:\n",
    "    best_model = best_rf\n",
    "    print('Selected Random Forest as best model')\n",
    "else:\n",
    "    best_model = best_xgb\n",
    "    print('Selected XGBoost as best model')\n",
    "\n",
    "# Save best model\n",
    "filename = 'parkinsons_model.sav'\n",
    "pickle.dump(best_model, open(filename, 'wb'))\n"
   ]
  }
 ],
 "metadata": {
  "kernelspec": {
   "display_name": "Python 3",
   "language": "python",
   "name": "python3"
  },
  "language_info": {
   "codemirror_mode": {
    "name": "ipython",
    "version": 3
   },
   "file_extension": ".py",
   "mimetype": "text/x-python",
   "name": "python",
   "nbconvert_exporter": "python",
   "pygments_lexer": "ipython3",
   "version": "3.8.8"
  }
 },
 "nbformat": 4,
 "nbformat_minor": 5
}
